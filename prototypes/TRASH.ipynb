{
 "cells": [
  {
   "cell_type": "code",
   "execution_count": 13,
   "metadata": {
    "collapsed": false
   },
   "outputs": [
    {
     "name": "stdout",
     "output_type": "stream",
     "text": [
      "-0.5\n"
     ]
    }
   ],
   "source": [
    "import numpy\n",
    "\n",
    "def cgrid(res=1, rad=1.0):\n",
    "    radres = rad/res\n",
    "    def gen(x,y):\n",
    "\n",
    "        return (.5+x-res) * radres + (.5+y-res) * radres * 1j\n",
    "    return numpy.fromfunction(gen, (res*2, res*2), dtype=complex)\n",
    "\n",
    "def grid(res=5):\n",
    "    def gen(x,y):\n",
    "        return x*res+y\n",
    "    return numpy.fromfunction(gen, (res, res), dtype=int)\n",
    "\n",
    "grid = cgrid()\n",
    "print(grid[:,0][0].imag)"
   ]
  },
  {
   "cell_type": "code",
   "execution_count": 14,
   "metadata": {
    "collapsed": false
   },
   "outputs": [
    {
     "data": {
      "text/plain": [
       "2.718281828459045"
      ]
     },
     "execution_count": 14,
     "metadata": {},
     "output_type": "execute_result"
    }
   ],
   "source": [
    "numpy.e\n"
   ]
  }
 ],
 "metadata": {
  "kernelspec": {
   "display_name": "Python 3",
   "language": "python",
   "name": "python3"
  },
  "language_info": {
   "codemirror_mode": {
    "name": "ipython",
    "version": 3
   },
   "file_extension": ".py",
   "mimetype": "text/x-python",
   "name": "python",
   "nbconvert_exporter": "python",
   "pygments_lexer": "ipython3",
   "version": "3.5.0"
  }
 },
 "nbformat": 4,
 "nbformat_minor": 0
}
