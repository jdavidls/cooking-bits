{
 "cells": [
  {
   "cell_type": "code",
   "execution_count": 53,
   "metadata": {
    "collapsed": false
   },
   "outputs": [],
   "source": [
    "import numpy\n",
    "\n",
    "def cgrid(res=2, rad=1.0, nozero=0):\n",
    "    def gen(x,y):\n",
    "        x-=res\n",
    "        y-=res\n",
    "        return (x * rad/res) + (y * rad/res) * 1j\n",
    "    return numpy.fromfunction(gen, (nozero + res*2, nozero + res*2), dtype=complex)\n",
    "\n",
    "cgrid()"
   ]
  },
  {
   "cell_type": "code",
   "execution_count": 52,
   "metadata": {
    "collapsed": false
   },
   "outputs": [
    {
     "data": {
      "text/plain": [
       "array([[-1.25-1.25j, -1.25-0.75j, -1.25-0.25j, -1.25+0.25j],\n",
       "       [-0.75-1.25j, -0.75-0.75j, -0.75-0.25j, -0.75+0.25j],\n",
       "       [-0.25-1.25j, -0.25-0.75j, -0.25-0.25j, -0.25+0.25j],\n",
       "       [ 0.25-1.25j,  0.25-0.75j,  0.25-0.25j,  0.25+0.25j]])"
      ]
     },
     "execution_count": 52,
     "metadata": {},
     "output_type": "execute_result"
    }
   ],
   "source": []
  }
 ],
 "metadata": {
  "kernelspec": {
   "display_name": "Python 3",
   "language": "python",
   "name": "python3"
  },
  "language_info": {
   "codemirror_mode": {
    "name": "ipython",
    "version": 3
   },
   "file_extension": ".py",
   "mimetype": "text/x-python",
   "name": "python",
   "nbconvert_exporter": "python",
   "pygments_lexer": "ipython3",
   "version": "3.5.0"
  }
 },
 "nbformat": 4,
 "nbformat_minor": 0
}
