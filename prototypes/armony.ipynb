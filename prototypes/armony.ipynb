{
 "cells": [
  {
   "cell_type": "code",
   "execution_count": 9,
   "metadata": {
    "collapsed": false
   },
   "outputs": [],
   "source": [
    "ivals = lambda *i: set((n % 12 for n in i if n % 12))\n",
    "\n",
    "min2=ivals(1)\n",
    "maj2=ivals(2)\n",
    "min3=ivals(3)\n",
    "maj3=ivals(4)\n",
    "fourth=ivals(5)\n",
    "aug4=ivals(6)\n",
    "dis5=ivals(6)\n",
    "fifth=ivals(7)\n",
    "aug5=ivals(8)\n",
    "min6=ivals(8)\n",
    "maj6=ivals(9)\n",
    "min7=ivals(10)\n",
    "maj7=ivals(11)\n",
    "\n",
    "# common chords\n",
    "maj = fifth | maj3\n",
    "maj7 = fifth | maj3 | maj7\n",
    "m = fifth | min3 \n",
    "m7 = fifth | min3 | min7\n",
    "m5b = dis5 | min3 | min7\n",
    "\n",
    "##\n",
    "lydian = maj2 | maj3 | aug4 | fifth | maj6 | maj7\n",
    "ionian = maj2 | maj3 | fourth | fifth | maj6 | maj7\n",
    "mixolydian = maj2 | maj3 | fourth | fifth | maj6 | min7\n",
    "dorian = maj2 | min3 | fourth | fifth | maj6 | min7\n",
    "eolian = maj2 | min3 | fourth | fifth | min6 | min7\n",
    "phrygian = min2 | min3 | fourth | fifth | min6 | min7\n",
    "locrian = min2 | min3 | fourth | dis5 | min6 | min7\n",
    "\n",
    "## register globals by name\n",
    "\n"
   ]
  },
  {
   "cell_type": "code",
   "execution_count": null,
   "metadata": {
    "collapsed": true
   },
   "outputs": [],
   "source": [
    "class Chord:\n",
    "    def __init__(self, root_note, intervals):\n",
    "        self._root_note = root_note % 12\n",
    "        self._intervals = set( n % 12 for n in intervals)\n"
   ]
  }
 ],
 "metadata": {
  "kernelspec": {
   "display_name": "Python 3",
   "language": "python",
   "name": "python3"
  },
  "language_info": {
   "codemirror_mode": {
    "name": "ipython",
    "version": 3
   },
   "file_extension": ".py",
   "mimetype": "text/x-python",
   "name": "python",
   "nbconvert_exporter": "python",
   "pygments_lexer": "ipython3",
   "version": "3.4.0"
  }
 },
 "nbformat": 4,
 "nbformat_minor": 0
}
